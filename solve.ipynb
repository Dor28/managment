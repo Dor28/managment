{
 "cells": [
  {
   "cell_type": "code",
   "execution_count": 28,
   "id": "middle-infrared",
   "metadata": {},
   "outputs": [
    {
     "data": {
      "text/plain": [
       "6.646307488259452"
      ]
     },
     "execution_count": 28,
     "metadata": {},
     "output_type": "execute_result"
    }
   ],
   "source": [
    "import numpy as np\n",
    "import pandas as pd\n",
    "\n",
    "\n",
    "purchase = pd.read_csv(\"purchases.csv\", delimiter='\\t', decimal=',')\n",
    "visits = pd.read_csv(\"visits.csv\", delimiter='\\t')\n",
    "\n",
    "revenue_sum = sum(purchase.revenue)\n",
    "unique_count =purchase['uid'].nunique()\n",
    "revenue_sum / unique_count\n",
    "\n"
   ]
  },
  {
   "cell_type": "code",
   "execution_count": null,
   "id": "precious-behalf",
   "metadata": {},
   "outputs": [],
   "source": []
  },
  {
   "cell_type": "code",
   "execution_count": null,
   "id": "biological-device",
   "metadata": {},
   "outputs": [],
   "source": []
  }
 ],
 "metadata": {
  "kernelspec": {
   "display_name": "Python 3",
   "language": "python",
   "name": "python3"
  },
  "language_info": {
   "codemirror_mode": {
    "name": "ipython",
    "version": 3
   },
   "file_extension": ".py",
   "mimetype": "text/x-python",
   "name": "python",
   "nbconvert_exporter": "python",
   "pygments_lexer": "ipython3",
   "version": "3.8.5"
  }
 },
 "nbformat": 4,
 "nbformat_minor": 5
}
